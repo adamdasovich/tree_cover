{
 "cells": [
  {
   "cell_type": "code",
   "execution_count": 32,
   "metadata": {},
   "outputs": [],
   "source": [
    "import pandas as pd\n",
    "from sklearn.model_selection import train_test_split\n",
    "from sklearn.preprocessing import StandardScaler, LabelEncoder\n",
    "from collections import Counter\n",
    "\n",
    "import tensorflow as tf\n",
    "from tensorflow import keras\n",
    "from tensorflow.keras import layers\n"
   ]
  },
  {
   "cell_type": "markdown",
   "metadata": {},
   "source": [
    "### Import the data file into a pandas dataframe for some investigation"
   ]
  },
  {
   "cell_type": "code",
   "execution_count": 33,
   "metadata": {},
   "outputs": [],
   "source": [
    "df = pd.read_csv('cover_data.csv')\n",
    "#print(df.head())\n",
    "#print(df.info())\n",
    "#print(df.columns)"
   ]
  },
  {
   "cell_type": "markdown",
   "metadata": {},
   "source": [
    "### Isolate the features columns and the label column"
   ]
  },
  {
   "cell_type": "code",
   "execution_count": 34,
   "metadata": {},
   "outputs": [
    {
     "name": "stdout",
     "output_type": "stream",
     "text": [
      "7\n"
     ]
    }
   ],
   "source": [
    "x = df.iloc[:, :54]\n",
    "#print(x.columns)\n",
    "\n",
    "y = df.iloc[:, -1]\n",
    "#print(y)\n",
    "#use Counter() to see how many classes are in the labels column\n",
    "print(len(Counter(y)))"
   ]
  },
  {
   "cell_type": "markdown",
   "metadata": {},
   "source": [
    "### Splitting data into training and testing, followed by scaling\n",
    "- split the data with train_test_split\n",
    "- fit the StandardScaler to the training data only. this captures the mean and std dev of the training set\n",
    "- transform the training_data and testing_data using the fitted StandardScaler\n",
    "\n",
    "### Afterwards, the features data will be ready for ML"
   ]
  },
  {
   "cell_type": "code",
   "execution_count": 35,
   "metadata": {},
   "outputs": [
    {
     "data": {
      "text/plain": [
       "array([[ 0.05533431,  0.24487548, -1.35061829, ..., -0.16601016,\n",
       "        -0.15589661, -0.12347927],\n",
       "       [ 0.05891091, -1.02334781, -0.54827161, ..., -0.16601016,\n",
       "        -0.15589661, -0.12347927],\n",
       "       [ 0.23774059,  1.47737416, -1.08316939, ..., -0.16601016,\n",
       "        -0.15589661, -0.12347927],\n",
       "       ...,\n",
       "       [-1.56843921,  0.13770168,  0.38779951, ..., -0.16601016,\n",
       "        -0.15589661, -0.12347927],\n",
       "       [ 0.64547227, -0.83579366,  0.52152396, ..., -0.16601016,\n",
       "        -0.15589661, -0.12347927],\n",
       "       [ 0.01956838,  1.18264621, -0.01337383, ..., -0.16601016,\n",
       "        -0.15589661, -0.12347927]])"
      ]
     },
     "execution_count": 35,
     "metadata": {},
     "output_type": "execute_result"
    }
   ],
   "source": [
    "x_train, x_temp, y_train, y_temp = train_test_split(x, y, test_size=0.3, random_state=7)\n",
    "x_val, x_test, y_val, y_test = train_test_split(x_temp, y_temp, test_size=0.5, random_state=7)\n",
    "\n",
    "scaler = StandardScaler()\n",
    "scaler.fit(x_train)\n",
    "scaler.transform(x_train)\n",
    "scaler.transform(x_test)\n",
    "scaler.transform(x_val)"
   ]
  },
  {
   "cell_type": "markdown",
   "metadata": {},
   "source": [
    "### Prepare the labels (y).  This columns has 7 classes, therefore use LabelEncoder"
   ]
  },
  {
   "cell_type": "code",
   "execution_count": 36,
   "metadata": {},
   "outputs": [
    {
     "name": "stdout",
     "output_type": "stream",
     "text": [
      "{'1': 0, '2': 1, '3': 2, '4': 3, '5': 4, '6': 5, '7': 6}\n"
     ]
    }
   ],
   "source": [
    "le = LabelEncoder()\n",
    "y_train = le.fit_transform(y_train.astype(str))\n",
    "y_test = le.transform(y_test.astype(str))\n",
    "y_val = le.transform(y_val.astype(str))\n",
    "\n",
    "int_mapping = {l: i for i, l in enumerate(le.classes_)}\n",
    "print(int_mapping)"
   ]
  },
  {
   "cell_type": "markdown",
   "metadata": {},
   "source": [
    "### Use Kera's to_categorical() to convert above labels as integers into one-hot-encoding"
   ]
  },
  {
   "cell_type": "code",
   "execution_count": 40,
   "metadata": {},
   "outputs": [],
   "source": [
    "y_train = tf.keras.utils.to_categorical(y_train, dtype='int64')\n",
    "y_test = tf.keras.utils.to_categorical(y_test, dtype='int64')\n",
    "y_val = tf.keras.utils.to_categorical(y_val, dtype='int64')"
   ]
  },
  {
   "cell_type": "markdown",
   "metadata": {},
   "source": [
    "### Create the Sequential model"
   ]
  },
  {
   "cell_type": "code",
   "execution_count": 41,
   "metadata": {},
   "outputs": [],
   "source": [
    "from tensorflow.keras.layers import InputLayer, Dense\n",
    "\n",
    "model = keras.Sequential()\n",
    "model.add(InputLayer(input_shape=(x_train.shape[1],)))\n",
    "model.add(Dense(8, activation='relu'))\n",
    "model.add(Dense(7, activation='softmax'))\n"
   ]
  },
  {
   "cell_type": "markdown",
   "metadata": {},
   "source": [
    "### Setting up the optimizer and compiling the model"
   ]
  },
  {
   "cell_type": "code",
   "execution_count": 42,
   "metadata": {},
   "outputs": [],
   "source": [
    "from tensorflow.keras.optimizers import Adam\n",
    "\n",
    "\n",
    "model.compile(optimizer=Adam(learning_rate=0.001), loss='categorical_crossentropy', metrics=['accuracy'])\n"
   ]
  },
  {
   "cell_type": "markdown",
   "metadata": {},
   "source": [
    "### Train and evaluate the classification model"
   ]
  },
  {
   "cell_type": "code",
   "execution_count": null,
   "metadata": {},
   "outputs": [],
   "source": []
  }
 ],
 "metadata": {
  "kernelspec": {
   "display_name": "tfkernel",
   "language": "python",
   "name": "tfkernel"
  },
  "language_info": {
   "codemirror_mode": {
    "name": "ipython",
    "version": 3
   },
   "file_extension": ".py",
   "mimetype": "text/x-python",
   "name": "python",
   "nbconvert_exporter": "python",
   "pygments_lexer": "ipython3",
   "version": "3.11.7"
  }
 },
 "nbformat": 4,
 "nbformat_minor": 4
}
